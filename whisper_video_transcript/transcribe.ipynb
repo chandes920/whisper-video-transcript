{
 "cells": [
  {
   "cell_type": "code",
   "execution_count": 1,
   "metadata": {},
   "outputs": [],
   "source": [
    "from transcribe.openai_whisper_transcription import OpenAIWhisperTranscription"
   ]
  },
  {
   "cell_type": "code",
   "execution_count": 2,
   "metadata": {},
   "outputs": [],
   "source": [
    "mp4_name = \"test.mp4\""
   ]
  },
  {
   "cell_type": "code",
   "execution_count": 3,
   "metadata": {},
   "outputs": [],
   "source": [
    "whisper_transcription = OpenAIWhisperTranscription(\n",
    "    mp4_name=mp4_name\n",
    ")"
   ]
  },
  {
   "cell_type": "code",
   "execution_count": 4,
   "metadata": {},
   "outputs": [
    {
     "name": "stderr",
     "output_type": "stream",
     "text": [
      "INFO:faster_whisper:Processing audio with duration 00:12.352\n",
      "INFO:faster_whisper:VAD filter removed 00:00.176 of audio\n",
      "DEBUG:faster_whisper:VAD filter kept the following audio segments: [00:00.176 -> 00:12.352]\n",
      "DEBUG:faster_whisper:Processing segment at 00:00.000\n"
     ]
    },
    {
     "name": "stdout",
     "output_type": "stream",
     "text": [
      "Transcribe generator initiated for test/test.mp4.\n",
      "Transcribe completed for test/test.mp4.\n",
      "Transcribe dataframe created for test/test.mp4\n"
     ]
    }
   ],
   "source": [
    "result_dict = whisper_transcription.openai_transcribe_to_df(\n",
    "    beam_size=5, \n",
    "    best_of=5, \n",
    "    vad_filter=True\n",
    ")"
   ]
  },
  {
   "cell_type": "code",
   "execution_count": 5,
   "metadata": {},
   "outputs": [],
   "source": [
    "subs_dict = whisper_transcription.create_subs_dict(result_dict)"
   ]
  },
  {
   "cell_type": "code",
   "execution_count": 6,
   "metadata": {},
   "outputs": [
    {
     "name": "stdout",
     "output_type": "stream",
     "text": [
      "test/test.mp4 {'What is this actually like?': {'count': 1, 'index_range': [0, 0], 'cleaned_key': 'consecutive_0'}, 'Do you think that the cause of weight gain is rice?': {'count': 1, 'index_range': [1, 1], 'cleaned_key': 'consecutive_1'}, 'Yes, I think so.': {'count': 1, 'index_range': [2, 2], 'cleaned_key': 'consecutive_2'}, 'Recently, the sugar-free diet has caused a big boom.': {'count': 1, 'index_range': [3, 3], 'cleaned_key': 'consecutive_3'}}\n",
      "Moviepy - Building video output_clip_consecutive_0.mp4.\n",
      "MoviePy - Writing audio in output_clip_consecutive_0TEMP_MPY_wvf_snd.mp4\n"
     ]
    },
    {
     "name": "stderr",
     "output_type": "stream",
     "text": [
      "                                                       \r"
     ]
    },
    {
     "name": "stdout",
     "output_type": "stream",
     "text": [
      "MoviePy - Done.\n",
      "Moviepy - Writing video output_clip_consecutive_0.mp4\n",
      "\n"
     ]
    },
    {
     "name": "stderr",
     "output_type": "stream",
     "text": [
      "                                                             \r"
     ]
    },
    {
     "name": "stdout",
     "output_type": "stream",
     "text": [
      "Moviepy - Done !\n",
      "Moviepy - video ready output_clip_consecutive_0.mp4\n",
      "Moviepy - Building video output_clip_consecutive_1.mp4.\n",
      "MoviePy - Writing audio in output_clip_consecutive_1TEMP_MPY_wvf_snd.mp4\n"
     ]
    },
    {
     "name": "stderr",
     "output_type": "stream",
     "text": [
      "                                                                 \r"
     ]
    },
    {
     "name": "stdout",
     "output_type": "stream",
     "text": [
      "MoviePy - Done.\n",
      "Moviepy - Writing video output_clip_consecutive_1.mp4\n",
      "\n"
     ]
    },
    {
     "name": "stderr",
     "output_type": "stream",
     "text": [
      "                                                               \r"
     ]
    },
    {
     "name": "stdout",
     "output_type": "stream",
     "text": [
      "Moviepy - Done !\n",
      "Moviepy - video ready output_clip_consecutive_1.mp4\n",
      "Moviepy - Building video output_clip_consecutive_2.mp4.\n",
      "MoviePy - Writing audio in output_clip_consecutive_2TEMP_MPY_wvf_snd.mp4\n"
     ]
    },
    {
     "name": "stderr",
     "output_type": "stream",
     "text": [
      "                                                       \r"
     ]
    },
    {
     "name": "stdout",
     "output_type": "stream",
     "text": [
      "MoviePy - Done.\n",
      "Moviepy - Writing video output_clip_consecutive_2.mp4\n",
      "\n"
     ]
    },
    {
     "name": "stderr",
     "output_type": "stream",
     "text": [
      "                                                   \r"
     ]
    },
    {
     "name": "stdout",
     "output_type": "stream",
     "text": [
      "Moviepy - Done !\n",
      "Moviepy - video ready output_clip_consecutive_2.mp4\n",
      "Moviepy - Building video output_clip_consecutive_3.mp4.\n",
      "MoviePy - Writing audio in output_clip_consecutive_3TEMP_MPY_wvf_snd.mp4\n"
     ]
    },
    {
     "name": "stderr",
     "output_type": "stream",
     "text": [
      "                                                                 \r"
     ]
    },
    {
     "name": "stdout",
     "output_type": "stream",
     "text": [
      "MoviePy - Done.\n",
      "Moviepy - Writing video output_clip_consecutive_3.mp4\n",
      "\n"
     ]
    },
    {
     "name": "stderr",
     "output_type": "stream",
     "text": [
      "                                                               \r"
     ]
    },
    {
     "name": "stdout",
     "output_type": "stream",
     "text": [
      "Moviepy - Done !\n",
      "Moviepy - video ready output_clip_consecutive_3.mp4\n"
     ]
    },
    {
     "name": "stderr",
     "output_type": "stream",
     "text": [
      "INFO:faster_whisper:Processing audio with duration 00:03.019\n",
      "DEBUG:faster_whisper:Processing segment at 00:00.000\n"
     ]
    },
    {
     "name": "stdout",
     "output_type": "stream",
     "text": [
      "Transcribe generator initiated for output_clip_consecutive_0.mp4.\n"
     ]
    },
    {
     "name": "stderr",
     "output_type": "stream",
     "text": [
      "INFO:faster_whisper:Processing audio with duration 00:04.017\n",
      "DEBUG:faster_whisper:Processing segment at 00:00.000\n"
     ]
    },
    {
     "name": "stdout",
     "output_type": "stream",
     "text": [
      "Transcribe completed for output_clip_consecutive_0.mp4.\n",
      "Transcribe dataframe created for output_clip_consecutive_0.mp4\n",
      "Transcribe generator initiated for output_clip_consecutive_1.mp4.\n"
     ]
    },
    {
     "name": "stderr",
     "output_type": "stream",
     "text": [
      "INFO:faster_whisper:Processing audio with duration 00:01.022\n",
      "DEBUG:faster_whisper:Processing segment at 00:00.000\n"
     ]
    },
    {
     "name": "stdout",
     "output_type": "stream",
     "text": [
      "Transcribe completed for output_clip_consecutive_1.mp4.\n",
      "Transcribe dataframe created for output_clip_consecutive_1.mp4\n",
      "Transcribe generator initiated for output_clip_consecutive_2.mp4.\n"
     ]
    },
    {
     "name": "stderr",
     "output_type": "stream",
     "text": [
      "INFO:faster_whisper:Processing audio with duration 00:04.203\n",
      "DEBUG:faster_whisper:Processing segment at 00:00.000\n"
     ]
    },
    {
     "name": "stdout",
     "output_type": "stream",
     "text": [
      "Transcribe completed for output_clip_consecutive_2.mp4.\n",
      "Transcribe dataframe created for output_clip_consecutive_2.mp4\n",
      "Transcribe generator initiated for output_clip_consecutive_3.mp4.\n",
      "Transcribe completed for output_clip_consecutive_3.mp4.\n",
      "Transcribe dataframe created for output_clip_consecutive_3.mp4\n",
      "test/test.mp4 {'What is this actually like?': {'count': 1, 'index_range': [0, 0], 'cleaned_key': 'consecutive_0'}, 'Do you think that the cause of weight gain is rice?': {'count': 1, 'index_range': [1, 1], 'cleaned_key': 'consecutive_1'}, 'Yes, I think so.': {'count': 1, 'index_range': [2, 2], 'cleaned_key': 'consecutive_2'}, 'Recently, the sugar-free diet has caused a big boom.': {'count': 1, 'index_range': [3, 3], 'cleaned_key': 'consecutive_3'}}\n"
     ]
    }
   ],
   "source": [
    "from result_enhancement.result_enhancement import ResultEnhancement\n",
    "\n",
    "for video in whisper_transcription.video_list:\n",
    "    result_enhancement = ResultEnhancement(result_dict[video])\n",
    "    enhanced_dict = result_enhancement.consecutive_text_workflow(video, consecutive_text_threshold=1, process=True, output=False)"
   ]
  },
  {
   "cell_type": "code",
   "execution_count": 7,
   "metadata": {},
   "outputs": [
    {
     "name": "stdout",
     "output_type": "stream",
     "text": [
      "   start    end                                               text  duration\n",
      "0   0.18   3.18                        What is this actually like?       3.0\n",
      "1   3.18   7.18  Don't you think the cause of your weight is rice?       4.0\n",
      "3   8.18  12.18  Recently, the sugar-free diet has caused a big...       4.0\n",
      "Moviepy - Building video output_clip_duration_0.mp4.\n",
      "MoviePy - Writing audio in output_clip_duration_0TEMP_MPY_wvf_snd.mp4\n"
     ]
    },
    {
     "name": "stderr",
     "output_type": "stream",
     "text": [
      "                                                                    \r"
     ]
    },
    {
     "name": "stdout",
     "output_type": "stream",
     "text": [
      "MoviePy - Done.\n",
      "Moviepy - Writing video output_clip_duration_0.mp4\n",
      "\n"
     ]
    },
    {
     "name": "stderr",
     "output_type": "stream",
     "text": [
      "                                                               \r"
     ]
    },
    {
     "name": "stdout",
     "output_type": "stream",
     "text": [
      "Moviepy - Done !\n",
      "Moviepy - video ready output_clip_duration_0.mp4\n",
      "Moviepy - Building video output_clip_duration_1.mp4.\n",
      "MoviePy - Writing audio in output_clip_duration_1TEMP_MPY_wvf_snd.mp4\n"
     ]
    },
    {
     "name": "stderr",
     "output_type": "stream",
     "text": [
      "                                                                  \r"
     ]
    },
    {
     "name": "stdout",
     "output_type": "stream",
     "text": [
      "MoviePy - Done.\n",
      "Moviepy - Writing video output_clip_duration_1.mp4\n",
      "\n"
     ]
    },
    {
     "name": "stderr",
     "output_type": "stream",
     "text": [
      "                                                               \r"
     ]
    },
    {
     "name": "stdout",
     "output_type": "stream",
     "text": [
      "Moviepy - Done !\n",
      "Moviepy - video ready output_clip_duration_1.mp4\n",
      "Moviepy - Building video output_clip_duration_3.mp4.\n",
      "MoviePy - Writing audio in output_clip_duration_3TEMP_MPY_wvf_snd.mp4\n"
     ]
    },
    {
     "name": "stderr",
     "output_type": "stream",
     "text": [
      "                                                                 \r"
     ]
    },
    {
     "name": "stdout",
     "output_type": "stream",
     "text": [
      "MoviePy - Done.\n",
      "Moviepy - Writing video output_clip_duration_3.mp4\n",
      "\n"
     ]
    },
    {
     "name": "stderr",
     "output_type": "stream",
     "text": [
      "                                                               \r"
     ]
    },
    {
     "name": "stdout",
     "output_type": "stream",
     "text": [
      "Moviepy - Done !\n",
      "Moviepy - video ready output_clip_duration_3.mp4\n"
     ]
    },
    {
     "name": "stderr",
     "output_type": "stream",
     "text": [
      "INFO:faster_whisper:Processing audio with duration 00:07.012\n",
      "DEBUG:faster_whisper:Processing segment at 00:00.000\n"
     ]
    },
    {
     "name": "stdout",
     "output_type": "stream",
     "text": [
      "Transcribe generator initiated for output_clip_duration_0.mp4.\n"
     ]
    },
    {
     "name": "stderr",
     "output_type": "stream",
     "text": [
      "INFO:faster_whisper:Processing audio with duration 00:05.016\n",
      "DEBUG:faster_whisper:Processing segment at 00:00.000\n"
     ]
    },
    {
     "name": "stdout",
     "output_type": "stream",
     "text": [
      "Transcribe completed for output_clip_duration_0.mp4.\n",
      "Transcribe dataframe created for output_clip_duration_0.mp4\n",
      "Transcribe generator initiated for output_clip_duration_1.mp4.\n"
     ]
    },
    {
     "name": "stderr",
     "output_type": "stream",
     "text": [
      "INFO:faster_whisper:Processing audio with duration 00:04.017\n",
      "DEBUG:faster_whisper:Processing segment at 00:00.000\n"
     ]
    },
    {
     "name": "stdout",
     "output_type": "stream",
     "text": [
      "Transcribe completed for output_clip_duration_1.mp4.\n",
      "Transcribe dataframe created for output_clip_duration_1.mp4\n",
      "Transcribe generator initiated for output_clip_duration_3.mp4.\n",
      "Transcribe completed for output_clip_duration_3.mp4.\n",
      "Transcribe dataframe created for output_clip_duration_3.mp4\n",
      "Moviepy - Building video test/test_output.mp4.\n",
      "MoviePy - Writing audio in temp-audio.m4a\n"
     ]
    },
    {
     "name": "stderr",
     "output_type": "stream",
     "text": [
      "                                                                    \r"
     ]
    },
    {
     "name": "stdout",
     "output_type": "stream",
     "text": [
      "MoviePy - Done.\n",
      "Moviepy - Writing video test/test_output.mp4\n",
      "\n"
     ]
    },
    {
     "name": "stderr",
     "output_type": "stream",
     "text": [
      "t: 100%|█████████▉| 371/372 [00:07<00:00, 57.41it/s, now=None]WARNING:py.warnings:/Users/chandes920/anaconda3/lib/python3.11/site-packages/moviepy/video/io/ffmpeg_reader.py:123: UserWarning: Warning: in file test/test.mp4, 2764800 bytes wanted but 0 bytes read,at frame 371/372, at time 12.38/12.41 sec. Using the last valid frame instead.\n",
      "  warnings.warn(\"Warning: in file %s, \"%(self.filename)+\n",
      "\n",
      "                                                              \r"
     ]
    },
    {
     "name": "stdout",
     "output_type": "stream",
     "text": [
      "Moviepy - Done !\n",
      "Moviepy - video ready test/test_output.mp4\n",
      "   start    end                                               text  duration\n",
      "0   0.18   3.18                        What is this actually like?       3.0\n",
      "1   3.18   7.18  Don't you think the cause of your weight is rice?       4.0\n",
      "3   8.18  12.18  Recently, the sugar-free diet has caused a big...       4.0\n"
     ]
    }
   ],
   "source": [
    "for video in whisper_transcription.video_list:\n",
    "    result_enhancement = ResultEnhancement(enhanced_dict[video])\n",
    "    enhanced_dict = result_enhancement.duration_workflow(video, enhanced_dict, duration_threshold=3, process=True, output=True)"
   ]
  },
  {
   "cell_type": "code",
   "execution_count": 8,
   "metadata": {},
   "outputs": [],
   "source": [
    "for video in whisper_transcription.video_list:\n",
    "    enhanced_dict[video].to_csv(f'{mp4_name[:-4]}.csv')"
   ]
  }
 ],
 "metadata": {
  "kernelspec": {
   "display_name": "base",
   "language": "python",
   "name": "python3"
  },
  "language_info": {
   "codemirror_mode": {
    "name": "ipython",
    "version": 3
   },
   "file_extension": ".py",
   "mimetype": "text/x-python",
   "name": "python",
   "nbconvert_exporter": "python",
   "pygments_lexer": "ipython3",
   "version": "3.11.5"
  }
 },
 "nbformat": 4,
 "nbformat_minor": 2
}
