{
 "cells": [
  {
   "cell_type": "code",
   "execution_count": null,
   "metadata": {},
   "outputs": [],
   "source": [
    "from transcribe import OpenAIWhisperTranscription"
   ]
  },
  {
   "cell_type": "code",
   "execution_count": null,
   "metadata": {},
   "outputs": [],
   "source": [
    "mp4_name = \"tv_0109.mp4\""
   ]
  },
  {
   "cell_type": "code",
   "execution_count": null,
   "metadata": {},
   "outputs": [],
   "source": [
    "whisper_transcription = OpenAIWhisperTranscription(\n",
    "    mp4_name=mp4_name\n",
    ")"
   ]
  },
  {
   "cell_type": "code",
   "execution_count": null,
   "metadata": {},
   "outputs": [],
   "source": [
    "result_dict = whisper_transcription.openai_transcribe_to_df(\n",
    "    beam_size=5, \n",
    "    best_of=5, \n",
    "    vad_filter=True\n",
    ")"
   ]
  },
  {
   "cell_type": "code",
   "execution_count": null,
   "metadata": {},
   "outputs": [],
   "source": [
    "whisper_transcription.write_pkl(result_dict, mp4_name)"
   ]
  },
  {
   "cell_type": "code",
   "execution_count": null,
   "metadata": {},
   "outputs": [],
   "source": [
    "subs_dict = whisper_transcription.create_subs_dict(result_dict)"
   ]
  },
  {
   "cell_type": "code",
   "execution_count": null,
   "metadata": {},
   "outputs": [],
   "source": [
    "# whisper_transcription.add_subs_to_video(subs_dict)"
   ]
  },
  {
   "cell_type": "code",
   "execution_count": null,
   "metadata": {},
   "outputs": [],
   "source": [
    "from result_enhancement import ResultEnhancement\n",
    "\n",
    "for video in whisper_transcription.video_list:\n",
    "    result_enhancement = ResultEnhancement(result_dict[video])\n",
    "    count_dict = result_enhancement.create_count_dict_consecutive_occurrences(threshold=4)\n",
    "    if count_dict:\n",
    "        print(video, count_dict)"
   ]
  },
  {
   "cell_type": "code",
   "execution_count": null,
   "metadata": {},
   "outputs": [],
   "source": [
    "for video in whisper_transcription.video_list:\n",
    "    result_dict[video].to_csv(f'{mp4_name}.csv')"
   ]
  },
  {
   "cell_type": "code",
   "execution_count": null,
   "metadata": {},
   "outputs": [],
   "source": [
    "from result_enhancement import ResultEnhancement\n",
    "\n",
    "enhanced_dict = {}\n",
    "\n",
    "for video in whisper_transcription.video_list:\n",
    "    result_enhancement = ResultEnhancement(result_dict[video])\n",
    "    count_dict = result_enhancement.create_count_dict_consecutive_occurrences(threshold=4)\n",
    "    if count_dict:\n",
    "        print(video, count_dict)\n",
    "        enhance_video_list = result_enhancement.extract_mp4_each_consecutive_text(video, count_dict)\n",
    "        whisper_transcription_enhance = result_enhancement.init_whisper_transcription(enhance_video_list)\n",
    "        enhance_result_dict = result_enhancement.enhance_transcribe_to_df(whisper_transcription_enhance)\n",
    "        final_result_df = result_enhancement.create_final_result_dict(enhance_result_dict, count_dict, result_dict[video])\n",
    "        enhanced_dict[video] = final_result_df\n",
    "        subs = result_enhancement.create_enhanced_subs_dict(final_result_df)\n",
    "        # result_enhancement.add_enhanced_subs_to_video(video, subs)"
   ]
  },
  {
   "cell_type": "code",
   "execution_count": null,
   "metadata": {},
   "outputs": [],
   "source": [
    "from result_enhancement import ResultEnhancement\n",
    "\n",
    "for video in whisper_transcription.video_list:\n",
    "    result_enhancement = ResultEnhancement(enhanced_dict[video])\n",
    "    count_dict = result_enhancement.create_count_dict_consecutive_occurrences(threshold=5)\n",
    "    if count_dict:\n",
    "        print(video, count_dict)\n",
    "        # enhance_video_list = result_enhancement.extract_mp4_each_consecutive_text(video, count_dict)\n",
    "        # whisper_transcription_enhance = result_enhancement.init_whisper_transcription(enhance_video_list)\n",
    "        # enhance_result_dict = result_enhancement.enhance_transcribe_to_df(whisper_transcription_enhance)\n",
    "        # final_result_df = result_enhancement.create_final_result_dict(enhance_result_dict, count_dict, enhanced_dict[video])\n",
    "        # enhanced_dict[video] = final_result_df\n",
    "        # subs = result_enhancement.create_enhanced_subs_dict(final_result_df)\n",
    "        # result_enhancement.add_enhanced_subs_to_video(video, subs)"
   ]
  },
  {
   "cell_type": "code",
   "execution_count": null,
   "metadata": {},
   "outputs": [],
   "source": [
    "enhanced_dict[video].to_csv(f'{mp4_name}.csv')"
   ]
  },
  {
   "cell_type": "code",
   "execution_count": null,
   "metadata": {},
   "outputs": [],
   "source": [
    "for video in whisper_transcription.video_list:\n",
    "    result_enhancement.add_enhanced_subs_to_video(whisper_transcription_enhance, video, subs)"
   ]
  },
  {
   "cell_type": "code",
   "execution_count": null,
   "metadata": {},
   "outputs": [],
   "source": [
    "final_result_df['duration'] = final_result_df['end']  - final_result_df['start']\n",
    "\n",
    "final_result_df_longer_than_10s = final_result_df[final_result_df['duration'] >= 10]"
   ]
  },
  {
   "cell_type": "code",
   "execution_count": null,
   "metadata": {},
   "outputs": [],
   "source": [
    "final_result_df_longer_than_10s"
   ]
  },
  {
   "cell_type": "code",
   "execution_count": null,
   "metadata": {},
   "outputs": [],
   "source": [
    "count_dict = {}\n",
    "\n",
    "for index, row in final_result_df_longer_than_10s.iterrows():\n",
    "    current_value = row['text']\n",
    "    count_dict.setdefault(current_value, {'count': 0, 'index_range': None})\n",
    "    count_dict[current_value]['count'] = 7\n",
    "    count_dict[current_value]['index_range'] = [index, index + 1]\n",
    "    count_dict[current_value]['cleaned_key'] = ''.join(char.lower() for char in current_value if char.isalnum())"
   ]
  },
  {
   "cell_type": "code",
   "execution_count": null,
   "metadata": {},
   "outputs": [],
   "source": [
    "from result_enhancement import ResultEnhancement\n",
    "\n",
    "for video in whisper_transcription.video_list:\n",
    "    result_enhancement = ResultEnhancement(enhanced_dict[video])\n",
    "    # count_dict = result_enhancement.create_count_dict_consecutive_occurrences(threshold=5)\n",
    "    if count_dict:\n",
    "        print(video, count_dict)\n",
    "        enhance_video_list = result_enhancement.extract_mp4_each_consecutive_text(video, count_dict)\n",
    "        whisper_transcription_enhance = result_enhancement.init_whisper_transcription(enhance_video_list)\n",
    "        enhance_result_dict = result_enhancement.enhance_transcribe_to_df(whisper_transcription_enhance)\n",
    "        final_result_df = result_enhancement.create_final_result_dict(enhance_result_dict, count_dict, enhanced_dict[video])\n",
    "        enhanced_dict[video] = final_result_df\n",
    "        subs = result_enhancement.create_enhanced_subs_dict(final_result_df)\n",
    "        # result_enhancement.add_enhanced_subs_to_video(whisper_transcription_enhance, video, subs)"
   ]
  },
  {
   "cell_type": "code",
   "execution_count": null,
   "metadata": {},
   "outputs": [],
   "source": [
    "final_result_df.to_csv(f'{mp4_name}.csv')"
   ]
  },
  {
   "cell_type": "code",
   "execution_count": null,
   "metadata": {},
   "outputs": [],
   "source": [
    "for video in whisper_transcription.video_list:    \n",
    "    result_enhancement.add_enhanced_subs_to_video(whisper_transcription_enhance, video, subs)"
   ]
  }
 ],
 "metadata": {
  "kernelspec": {
   "display_name": "base",
   "language": "python",
   "name": "python3"
  },
  "language_info": {
   "codemirror_mode": {
    "name": "ipython",
    "version": 3
   },
   "file_extension": ".py",
   "mimetype": "text/x-python",
   "name": "python",
   "nbconvert_exporter": "python",
   "pygments_lexer": "ipython3",
   "version": "3.11.5"
  }
 },
 "nbformat": 4,
 "nbformat_minor": 2
}
