{
 "cells": [
  {
   "cell_type": "code",
   "execution_count": null,
   "metadata": {},
   "outputs": [],
   "source": [
    "from transcribe.openai_whisper_transcription import OpenAIWhisperTranscription"
   ]
  },
  {
   "cell_type": "code",
   "execution_count": null,
   "metadata": {},
   "outputs": [],
   "source": [
    "mp4_name = \"your_mp4_name.mp4\""
   ]
  },
  {
   "cell_type": "code",
   "execution_count": null,
   "metadata": {},
   "outputs": [],
   "source": [
    "whisper_transcription = OpenAIWhisperTranscription(\n",
    "    mp4_name=mp4_name\n",
    ")"
   ]
  },
  {
   "cell_type": "code",
   "execution_count": null,
   "metadata": {},
   "outputs": [],
   "source": [
    "result_dict = whisper_transcription.openai_transcribe_to_df(\n",
    "    beam_size=5, \n",
    "    best_of=5, \n",
    "    vad_filter=True\n",
    ")"
   ]
  },
  {
   "cell_type": "code",
   "execution_count": null,
   "metadata": {},
   "outputs": [],
   "source": [
    "subs_dict = whisper_transcription.create_subs_dict(result_dict)"
   ]
  },
  {
   "cell_type": "code",
   "execution_count": null,
   "metadata": {},
   "outputs": [],
   "source": [
    "from result_enhancement.result_enhancement import ResultEnhancement\n",
    "\n",
    "for video in whisper_transcription.video_list:\n",
    "    result_enhancement = ResultEnhancement(result_dict[video])\n",
    "    enhanced_dict = result_enhancement.consecutive_text_workflow(video, consecutive_text_threshold=4, process=True, output=False)"
   ]
  },
  {
   "cell_type": "code",
   "execution_count": null,
   "metadata": {},
   "outputs": [],
   "source": [
    "from result_enhancement import ResultEnhancement\n",
    "\n",
    "for video in whisper_transcription.video_list:\n",
    "    result_enhancement = ResultEnhancement(enhanced_dict[video])\n",
    "    enhanced_dict = result_enhancement.duration_workflow(video, enhanced_dict, duration_threshold=10, process=True, output=True)"
   ]
  },
  {
   "cell_type": "code",
   "execution_count": null,
   "metadata": {},
   "outputs": [],
   "source": [
    "for video in whisper_transcription.video_list:\n",
    "    enhanced_dict[video].to_csv(f'{mp4_name[:-4]}.csv')"
   ]
  }
 ],
 "metadata": {
  "kernelspec": {
   "display_name": "base",
   "language": "python",
   "name": "python3"
  },
  "language_info": {
   "codemirror_mode": {
    "name": "ipython",
    "version": 3
   },
   "file_extension": ".py",
   "mimetype": "text/x-python",
   "name": "python",
   "nbconvert_exporter": "python",
   "pygments_lexer": "ipython3",
   "version": "3.11.5"
  }
 },
 "nbformat": 4,
 "nbformat_minor": 2
}
