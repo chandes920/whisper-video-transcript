{
 "cells": [
  {
   "cell_type": "code",
   "execution_count": 1,
   "metadata": {},
   "outputs": [],
   "source": [
    "from transcribe import OpenAIWhisperTranscription"
   ]
  },
  {
   "cell_type": "code",
   "execution_count": 60,
   "metadata": {},
   "outputs": [],
   "source": [
    "mp4_name = \"datsuryoku_0105.mp4\""
   ]
  },
  {
   "cell_type": "code",
   "execution_count": 61,
   "metadata": {},
   "outputs": [],
   "source": [
    "whisper_transcription = OpenAIWhisperTranscription(\n",
    "    mp4_name=mp4_name\n",
    ")"
   ]
  },
  {
   "cell_type": "code",
   "execution_count": 62,
   "metadata": {},
   "outputs": [
    {
     "name": "stderr",
     "output_type": "stream",
     "text": [
      "INFO:faster_whisper:Processing audio with duration 31:22.112\n",
      "INFO:faster_whisper:VAD filter removed 00:46.864 of audio\n",
      "DEBUG:faster_whisper:VAD filter kept the following audio segments: [00:01.264 -> 03:22.128], [03:29.776 -> 05:56.240], [05:59.024 -> 10:00.016], [10:02.480 -> 11:02.224], [11:03.664 -> 11:06.448], [11:08.592 -> 13:16.560], [13:21.264 -> 18:47.888], [18:50.224 -> 19:00.496], [19:02.192 -> 23:24.240], [23:32.528 -> 23:50.544], [23:52.816 -> 26:43.280], [26:44.656 -> 26:46.352], [26:47.792 -> 30:23.632], [30:25.008 -> 30:47.056], [30:50.352 -> 31:07.856], [31:10.192 -> 31:22.112]\n",
      "DEBUG:faster_whisper:Processing segment at 00:00.000\n"
     ]
    },
    {
     "name": "stdout",
     "output_type": "stream",
     "text": [
      "Transcribe generator initiated for datsuryoku_0105/datsuryoku_0105.mp4.\n"
     ]
    },
    {
     "name": "stderr",
     "output_type": "stream",
     "text": [
      "DEBUG:faster_whisper:Processing segment at 00:27.000\n",
      "DEBUG:faster_whisper:Processing segment at 00:57.000\n",
      "DEBUG:faster_whisper:Processing segment at 01:26.000\n",
      "DEBUG:faster_whisper:Compression ratio threshold is not met with temperature 0.0 (2.867769 > 2.400000)\n",
      "DEBUG:faster_whisper:Compression ratio threshold is not met with temperature 0.2 (3.146789 > 2.400000)\n",
      "DEBUG:faster_whisper:Compression ratio threshold is not met with temperature 0.4 (2.849206 > 2.400000)\n",
      "DEBUG:faster_whisper:Reset prompt. prompt_reset_on_temperature threshold is met 0.600000 > 0.500000\n",
      "DEBUG:faster_whisper:Processing segment at 01:54.000\n",
      "DEBUG:faster_whisper:Processing segment at 02:22.400\n",
      "DEBUG:faster_whisper:Processing segment at 02:52.400\n",
      "DEBUG:faster_whisper:Processing segment at 03:22.300\n",
      "DEBUG:faster_whisper:Processing segment at 03:52.300\n",
      "DEBUG:faster_whisper:Processing segment at 04:22.100\n",
      "DEBUG:faster_whisper:Processing segment at 04:50.700\n",
      "DEBUG:faster_whisper:Processing segment at 05:20.500\n",
      "DEBUG:faster_whisper:Processing segment at 05:49.900\n",
      "DEBUG:faster_whisper:Processing segment at 06:19.900\n",
      "DEBUG:faster_whisper:Processing segment at 06:49.900\n",
      "DEBUG:faster_whisper:Processing segment at 07:19.600\n",
      "DEBUG:faster_whisper:Processing segment at 07:49.500\n",
      "DEBUG:faster_whisper:Compression ratio threshold is not met with temperature 0.0 (2.456432 > 2.400000)\n",
      "DEBUG:faster_whisper:Processing segment at 08:19.500\n",
      "DEBUG:faster_whisper:Processing segment at 08:49.500\n",
      "DEBUG:faster_whisper:Processing segment at 09:19.300\n",
      "DEBUG:faster_whisper:Processing segment at 09:49.200\n",
      "DEBUG:faster_whisper:Compression ratio threshold is not met with temperature 0.0 (15.280000 > 2.400000)\n",
      "DEBUG:faster_whisper:Compression ratio threshold is not met with temperature 0.2 (15.280000 > 2.400000)\n",
      "DEBUG:faster_whisper:Compression ratio threshold is not met with temperature 0.4 (12.791667 > 2.400000)\n",
      "DEBUG:faster_whisper:Compression ratio threshold is not met with temperature 0.6 (6.876712 > 2.400000)\n",
      "DEBUG:faster_whisper:Log probability threshold is not met with temperature 0.8 (-1.109133 < -1.000000)\n",
      "DEBUG:faster_whisper:Log probability threshold is not met with temperature 1.0 (-1.987220 < -1.000000)\n",
      "DEBUG:faster_whisper:Reset prompt. prompt_reset_on_temperature threshold is met 0.800000 > 0.500000\n",
      "DEBUG:faster_whisper:Processing segment at 10:19.000\n",
      "DEBUG:faster_whisper:Processing segment at 10:44.000\n",
      "DEBUG:faster_whisper:Compression ratio threshold is not met with temperature 0.0 (3.885965 > 2.400000)\n",
      "DEBUG:faster_whisper:Processing segment at 11:14.000\n",
      "DEBUG:faster_whisper:Compression ratio threshold is not met with temperature 0.0 (13.716667 > 2.400000)\n",
      "DEBUG:faster_whisper:Processing segment at 11:44.000\n",
      "DEBUG:faster_whisper:Compression ratio threshold is not met with temperature 0.0 (12.791667 > 2.400000)\n",
      "DEBUG:faster_whisper:Compression ratio threshold is not met with temperature 0.2 (12.791667 > 2.400000)\n",
      "DEBUG:faster_whisper:Compression ratio threshold is not met with temperature 0.4 (12.791667 > 2.400000)\n",
      "DEBUG:faster_whisper:Reset prompt. prompt_reset_on_temperature threshold is met 0.600000 > 0.500000\n",
      "DEBUG:faster_whisper:Processing segment at 12:13.000\n",
      "DEBUG:faster_whisper:Processing segment at 12:43.000\n",
      "DEBUG:faster_whisper:Compression ratio threshold is not met with temperature 0.0 (2.942857 > 2.400000)\n",
      "DEBUG:faster_whisper:Processing segment at 13:13.000\n",
      "DEBUG:faster_whisper:Processing segment at 13:43.000\n",
      "DEBUG:faster_whisper:Processing segment at 14:11.000\n",
      "DEBUG:faster_whisper:Compression ratio threshold is not met with temperature 0.0 (13.000000 > 2.400000)\n",
      "DEBUG:faster_whisper:Compression ratio threshold is not met with temperature 0.2 (13.000000 > 2.400000)\n",
      "DEBUG:faster_whisper:Compression ratio threshold is not met with temperature 0.4 (13.000000 > 2.400000)\n",
      "DEBUG:faster_whisper:Compression ratio threshold is not met with temperature 0.6 (13.000000 > 2.400000)\n",
      "DEBUG:faster_whisper:Compression ratio threshold is not met with temperature 0.8 (6.031250 > 2.400000)\n",
      "DEBUG:faster_whisper:Log probability threshold is not met with temperature 1.0 (-1.968785 < -1.000000)\n",
      "DEBUG:faster_whisper:Reset prompt. prompt_reset_on_temperature threshold is met 1.000000 > 0.500000\n",
      "DEBUG:faster_whisper:Processing segment at 14:41.000\n",
      "DEBUG:faster_whisper:Processing segment at 15:07.680\n",
      "DEBUG:faster_whisper:Processing segment at 15:37.680\n",
      "DEBUG:faster_whisper:Processing segment at 16:07.680\n",
      "DEBUG:faster_whisper:Compression ratio threshold is not met with temperature 0.0 (2.738397 > 2.400000)\n",
      "DEBUG:faster_whisper:Compression ratio threshold is not met with temperature 0.2 (10.600000 > 2.400000)\n",
      "DEBUG:faster_whisper:Compression ratio threshold is not met with temperature 0.4 (2.515873 > 2.400000)\n",
      "DEBUG:faster_whisper:Compression ratio threshold is not met with temperature 0.6 (2.814050 > 2.400000)\n",
      "DEBUG:faster_whisper:Log probability threshold is not met with temperature 0.8 (-1.071743 < -1.000000)\n",
      "DEBUG:faster_whisper:Log probability threshold is not met with temperature 1.0 (-1.759831 < -1.000000)\n",
      "DEBUG:faster_whisper:Reset prompt. prompt_reset_on_temperature threshold is met 0.800000 > 0.500000\n",
      "DEBUG:faster_whisper:Processing segment at 16:37.680\n",
      "DEBUG:faster_whisper:Processing segment at 17:05.680\n",
      "DEBUG:faster_whisper:Processing segment at 17:35.680\n",
      "DEBUG:faster_whisper:Compression ratio threshold is not met with temperature 0.0 (14.461538 > 2.400000)\n",
      "DEBUG:faster_whisper:Compression ratio threshold is not met with temperature 0.2 (14.461538 > 2.400000)\n",
      "DEBUG:faster_whisper:Compression ratio threshold is not met with temperature 0.4 (15.450000 > 2.400000)\n",
      "DEBUG:faster_whisper:Reset prompt. prompt_reset_on_temperature threshold is met 0.600000 > 0.500000\n",
      "DEBUG:faster_whisper:Processing segment at 18:04.680\n",
      "DEBUG:faster_whisper:Processing segment at 18:33.680\n",
      "DEBUG:faster_whisper:Processing segment at 19:03.680\n",
      "DEBUG:faster_whisper:Processing segment at 19:32.680\n",
      "DEBUG:faster_whisper:Processing segment at 20:01.680\n",
      "DEBUG:faster_whisper:Processing segment at 20:31.680\n",
      "DEBUG:faster_whisper:Processing segment at 21:00.680\n",
      "DEBUG:faster_whisper:Processing segment at 21:29.680\n",
      "DEBUG:faster_whisper:Compression ratio threshold is not met with temperature 0.0 (15.500000 > 2.400000)\n",
      "DEBUG:faster_whisper:Compression ratio threshold is not met with temperature 0.2 (15.500000 > 2.400000)\n",
      "DEBUG:faster_whisper:Processing segment at 21:58.680\n",
      "DEBUG:faster_whisper:Compression ratio threshold is not met with temperature 0.0 (3.542553 > 2.400000)\n",
      "DEBUG:faster_whisper:Compression ratio threshold is not met with temperature 0.2 (2.986726 > 2.400000)\n",
      "DEBUG:faster_whisper:Processing segment at 22:27.680\n",
      "DEBUG:faster_whisper:Compression ratio threshold is not met with temperature 0.0 (14.519231 > 2.400000)\n",
      "DEBUG:faster_whisper:Compression ratio threshold is not met with temperature 0.2 (14.519231 > 2.400000)\n",
      "DEBUG:faster_whisper:Compression ratio threshold is not met with temperature 0.4 (8.849315 > 2.400000)\n",
      "DEBUG:faster_whisper:Compression ratio threshold is not met with temperature 0.6 (2.500000 > 2.400000)\n",
      "DEBUG:faster_whisper:Log probability threshold is not met with temperature 0.8 (-1.035005 < -1.000000)\n",
      "DEBUG:faster_whisper:Log probability threshold is not met with temperature 1.0 (-1.699860 < -1.000000)\n",
      "DEBUG:faster_whisper:Reset prompt. prompt_reset_on_temperature threshold is met 0.800000 > 0.500000\n",
      "DEBUG:faster_whisper:Processing segment at 22:57.680\n",
      "DEBUG:faster_whisper:Processing segment at 23:26.680\n",
      "DEBUG:faster_whisper:Processing segment at 23:56.680\n",
      "DEBUG:faster_whisper:Processing segment at 24:23.680\n",
      "DEBUG:faster_whisper:Processing segment at 24:53.680\n",
      "DEBUG:faster_whisper:Processing segment at 25:22.680\n",
      "DEBUG:faster_whisper:Compression ratio threshold is not met with temperature 0.0 (13.617647 > 2.400000)\n",
      "DEBUG:faster_whisper:Processing segment at 25:50.680\n",
      "DEBUG:faster_whisper:Processing segment at 26:19.680\n",
      "DEBUG:faster_whisper:Processing segment at 26:48.680\n",
      "DEBUG:faster_whisper:Compression ratio threshold is not met with temperature 0.0 (16.400000 > 2.400000)\n",
      "DEBUG:faster_whisper:Compression ratio threshold is not met with temperature 0.2 (16.400000 > 2.400000)\n",
      "DEBUG:faster_whisper:Compression ratio threshold is not met with temperature 0.4 (6.831169 > 2.400000)\n",
      "DEBUG:faster_whisper:Compression ratio threshold is not met with temperature 0.6 (4.370370 > 2.400000)\n",
      "DEBUG:faster_whisper:Reset prompt. prompt_reset_on_temperature threshold is met 0.800000 > 0.500000\n",
      "DEBUG:faster_whisper:Processing segment at 27:17.680\n",
      "DEBUG:faster_whisper:Processing segment at 27:46.680\n",
      "DEBUG:faster_whisper:Processing segment at 28:16.680\n",
      "DEBUG:faster_whisper:Compression ratio threshold is not met with temperature 0.0 (7.933333 > 2.400000)\n",
      "DEBUG:faster_whisper:Compression ratio threshold is not met with temperature 0.2 (7.933333 > 2.400000)\n",
      "DEBUG:faster_whisper:Compression ratio threshold is not met with temperature 0.4 (7.933333 > 2.400000)\n",
      "DEBUG:faster_whisper:Compression ratio threshold is not met with temperature 0.6 (7.933333 > 2.400000)\n",
      "DEBUG:faster_whisper:Compression ratio threshold is not met with temperature 0.8 (7.666667 > 2.400000)\n",
      "DEBUG:faster_whisper:Compression ratio threshold is not met with temperature 1.0 (5.533333 > 2.400000)\n",
      "DEBUG:faster_whisper:Processing segment at 28:46.680\n",
      "DEBUG:faster_whisper:Compression ratio threshold is not met with temperature 0.0 (7.666667 > 2.400000)\n",
      "DEBUG:faster_whisper:Compression ratio threshold is not met with temperature 0.2 (7.666667 > 2.400000)\n",
      "DEBUG:faster_whisper:Compression ratio threshold is not met with temperature 0.4 (7.666667 > 2.400000)\n",
      "DEBUG:faster_whisper:Compression ratio threshold is not met with temperature 0.6 (7.666667 > 2.400000)\n",
      "DEBUG:faster_whisper:Compression ratio threshold is not met with temperature 0.8 (7.400000 > 2.400000)\n",
      "DEBUG:faster_whisper:Log probability threshold is not met with temperature 1.0 (-1.229952 < -1.000000)\n",
      "DEBUG:faster_whisper:Reset prompt. prompt_reset_on_temperature threshold is met 1.000000 > 0.500000\n",
      "DEBUG:faster_whisper:Processing segment at 29:16.280\n",
      "DEBUG:faster_whisper:Compression ratio threshold is not met with temperature 0.0 (9.611111 > 2.400000)\n",
      "DEBUG:faster_whisper:Compression ratio threshold is not met with temperature 0.2 (10.163636 > 2.400000)\n",
      "DEBUG:faster_whisper:Compression ratio threshold is not met with temperature 0.4 (6.528571 > 2.400000)\n",
      "DEBUG:faster_whisper:Compression ratio threshold is not met with temperature 0.6 (2.722222 > 2.400000)\n",
      "DEBUG:faster_whisper:Log probability threshold is not met with temperature 0.8 (-1.361323 < -1.000000)\n",
      "DEBUG:faster_whisper:Log probability threshold is not met with temperature 1.0 (-2.617763 < -1.000000)\n",
      "DEBUG:faster_whisper:Reset prompt. prompt_reset_on_temperature threshold is met 0.800000 > 0.500000\n",
      "DEBUG:faster_whisper:Processing segment at 29:41.280\n",
      "DEBUG:faster_whisper:Processing segment at 30:04.280\n",
      "DEBUG:faster_whisper:Processing segment at 30:34.280\n"
     ]
    },
    {
     "name": "stdout",
     "output_type": "stream",
     "text": [
      "Transcribe completed for datsuryoku_0105/datsuryoku_0105.mp4.\n",
      "Transcribe dataframe created for datsuryoku_0105/datsuryoku_0105.mp4\n"
     ]
    }
   ],
   "source": [
    "result_dict = whisper_transcription.openai_transcribe_to_df(\n",
    "    beam_size=5, \n",
    "    best_of=5, \n",
    "    vad_filter=True\n",
    ")"
   ]
  },
  {
   "cell_type": "code",
   "execution_count": 63,
   "metadata": {},
   "outputs": [],
   "source": [
    "whisper_transcription.write_pkl(result_dict, mp4_name)"
   ]
  },
  {
   "cell_type": "code",
   "execution_count": 64,
   "metadata": {},
   "outputs": [],
   "source": [
    "subs_dict = whisper_transcription.create_subs_dict(result_dict)"
   ]
  },
  {
   "cell_type": "code",
   "execution_count": 13,
   "metadata": {},
   "outputs": [
    {
     "name": "stdout",
     "output_type": "stream",
     "text": [
      "Moviepy - Building video dounanoka_0110/dounanoka_0110_output.mp4.\n",
      "MoviePy - Writing audio in temp-audio.m4a\n"
     ]
    },
    {
     "name": "stderr",
     "output_type": "stream",
     "text": [
      "                                                                        \r"
     ]
    },
    {
     "name": "stdout",
     "output_type": "stream",
     "text": [
      "MoviePy - Done.\n",
      "Moviepy - Writing video dounanoka_0110/dounanoka_0110_output.mp4\n",
      "\n"
     ]
    },
    {
     "name": "stderr",
     "output_type": "stream",
     "text": [
      "t: 100%|█████████▉| 42207/42209 [14:57<00:00, 49.66it/s, now=None] WARNING:py.warnings:/Users/chandes920/anaconda3/lib/python3.11/site-packages/moviepy/video/io/ffmpeg_reader.py:123: UserWarning: Warning: in file dounanoka_0110/dounanoka_0110.mp4, 2764800 bytes wanted but 0 bytes read,at frame 42207/42209, at time 1408.31/1408.37 sec. Using the last valid frame instead.\n",
      "  warnings.warn(\"Warning: in file %s, \"%(self.filename)+\n",
      "\n",
      "WARNING:py.warnings:/Users/chandes920/anaconda3/lib/python3.11/site-packages/moviepy/video/io/ffmpeg_reader.py:123: UserWarning: Warning: in file dounanoka_0110/dounanoka_0110.mp4, 2764800 bytes wanted but 0 bytes read,at frame 42208/42209, at time 1408.34/1408.37 sec. Using the last valid frame instead.\n",
      "  warnings.warn(\"Warning: in file %s, \"%(self.filename)+\n",
      "\n",
      "                                                                  \r"
     ]
    },
    {
     "name": "stdout",
     "output_type": "stream",
     "text": [
      "Moviepy - Done !\n",
      "Moviepy - video ready dounanoka_0110/dounanoka_0110_output.mp4\n"
     ]
    }
   ],
   "source": [
    "# whisper_transcription.add_subs_to_video(subs_dict)"
   ]
  },
  {
   "cell_type": "code",
   "execution_count": 65,
   "metadata": {},
   "outputs": [
    {
     "name": "stdout",
     "output_type": "stream",
     "text": [
      "datsuryoku_0105/datsuryoku_0105.mp4 {\"I'm sorry.\": {'count': 4, 'index_range': [31, 34], 'cleaned_key': 'imsorry'}, 'See you.': {'count': 4, 'index_range': [324, 327], 'cleaned_key': 'seeyou'}, 'Thank you.': {'count': 9, 'index_range': [594, 602], 'cleaned_key': 'thankyou'}, 'Cho': {'count': 54, 'index_range': [727, 780], 'cleaned_key': 'cho'}}\n"
     ]
    }
   ],
   "source": [
    "from result_enhancement import ResultEnhancement\n",
    "\n",
    "for video in whisper_transcription.video_list:\n",
    "    result_enhancement = ResultEnhancement(result_dict[video])\n",
    "    count_dict = result_enhancement.create_count_dict_consecutive_occurrences(threshold=4)\n",
    "    if count_dict:\n",
    "        print(video, count_dict)"
   ]
  },
  {
   "cell_type": "code",
   "execution_count": 32,
   "metadata": {},
   "outputs": [],
   "source": [
    "for video in whisper_transcription.video_list:\n",
    "    result_dict[video].to_csv(f'{mp4_name}.csv')"
   ]
  },
  {
   "cell_type": "code",
   "execution_count": 66,
   "metadata": {},
   "outputs": [
    {
     "name": "stdout",
     "output_type": "stream",
     "text": [
      "datsuryoku_0105/datsuryoku_0105.mp4 {\"I'm sorry.\": {'count': 4, 'index_range': [31, 34], 'cleaned_key': 'imsorry'}, 'See you.': {'count': 4, 'index_range': [324, 327], 'cleaned_key': 'seeyou'}, 'Thank you.': {'count': 9, 'index_range': [594, 602], 'cleaned_key': 'thankyou'}, 'Cho': {'count': 54, 'index_range': [727, 780], 'cleaned_key': 'cho'}}\n",
      "Moviepy - Building video output_clip_imsorry.mp4.\n",
      "MoviePy - Writing audio in output_clip_imsorryTEMP_MPY_wvf_snd.mp4\n"
     ]
    },
    {
     "name": "stderr",
     "output_type": "stream",
     "text": [
      "                                                                 \r"
     ]
    },
    {
     "name": "stdout",
     "output_type": "stream",
     "text": [
      "MoviePy - Done.\n",
      "Moviepy - Writing video output_clip_imsorry.mp4\n",
      "\n"
     ]
    },
    {
     "name": "stderr",
     "output_type": "stream",
     "text": [
      "                                                               \r"
     ]
    },
    {
     "name": "stdout",
     "output_type": "stream",
     "text": [
      "Moviepy - Done !\n",
      "Moviepy - video ready output_clip_imsorry.mp4\n",
      "Moviepy - Building video output_clip_seeyou.mp4.\n",
      "MoviePy - Writing audio in output_clip_seeyouTEMP_MPY_wvf_snd.mp4\n"
     ]
    },
    {
     "name": "stderr",
     "output_type": "stream",
     "text": [
      "                                                                 \r"
     ]
    },
    {
     "name": "stdout",
     "output_type": "stream",
     "text": [
      "MoviePy - Done.\n",
      "Moviepy - Writing video output_clip_seeyou.mp4\n",
      "\n"
     ]
    },
    {
     "name": "stderr",
     "output_type": "stream",
     "text": [
      "                                                              \r"
     ]
    },
    {
     "name": "stdout",
     "output_type": "stream",
     "text": [
      "Moviepy - Done !\n",
      "Moviepy - video ready output_clip_seeyou.mp4\n",
      "Moviepy - Building video output_clip_thankyou.mp4.\n",
      "MoviePy - Writing audio in output_clip_thankyouTEMP_MPY_wvf_snd.mp4\n"
     ]
    },
    {
     "name": "stderr",
     "output_type": "stream",
     "text": [
      "                                                                  \r"
     ]
    },
    {
     "name": "stdout",
     "output_type": "stream",
     "text": [
      "MoviePy - Done.\n",
      "Moviepy - Writing video output_clip_thankyou.mp4\n",
      "\n"
     ]
    },
    {
     "name": "stderr",
     "output_type": "stream",
     "text": [
      "                                                               \r"
     ]
    },
    {
     "name": "stdout",
     "output_type": "stream",
     "text": [
      "Moviepy - Done !\n",
      "Moviepy - video ready output_clip_thankyou.mp4\n",
      "Moviepy - Building video output_clip_cho.mp4.\n",
      "MoviePy - Writing audio in output_clip_choTEMP_MPY_wvf_snd.mp4\n"
     ]
    },
    {
     "name": "stderr",
     "output_type": "stream",
     "text": [
      "                                                                      \r"
     ]
    },
    {
     "name": "stdout",
     "output_type": "stream",
     "text": [
      "MoviePy - Done.\n",
      "Moviepy - Writing video output_clip_cho.mp4\n",
      "\n"
     ]
    },
    {
     "name": "stderr",
     "output_type": "stream",
     "text": [
      "                                                                 \r"
     ]
    },
    {
     "name": "stdout",
     "output_type": "stream",
     "text": [
      "Moviepy - Done !\n",
      "Moviepy - video ready output_clip_cho.mp4\n"
     ]
    },
    {
     "name": "stderr",
     "output_type": "stream",
     "text": [
      "INFO:faster_whisper:Processing audio with duration 00:04.017\n",
      "DEBUG:faster_whisper:Processing segment at 00:00.000\n"
     ]
    },
    {
     "name": "stdout",
     "output_type": "stream",
     "text": [
      "Transcribe generator initiated for output_clip_imsorry.mp4.\n"
     ]
    },
    {
     "name": "stderr",
     "output_type": "stream",
     "text": [
      "INFO:faster_whisper:Processing audio with duration 00:04.017\n",
      "DEBUG:faster_whisper:Processing segment at 00:00.000\n"
     ]
    },
    {
     "name": "stdout",
     "output_type": "stream",
     "text": [
      "Transcribe completed for output_clip_imsorry.mp4.\n",
      "Transcribe dataframe created for output_clip_imsorry.mp4\n",
      "Transcribe generator initiated for output_clip_seeyou.mp4.\n"
     ]
    },
    {
     "name": "stderr",
     "output_type": "stream",
     "text": [
      "INFO:faster_whisper:Processing audio with duration 00:09.009\n",
      "DEBUG:faster_whisper:Processing segment at 00:00.000\n"
     ]
    },
    {
     "name": "stdout",
     "output_type": "stream",
     "text": [
      "Transcribe completed for output_clip_seeyou.mp4.\n",
      "Transcribe dataframe created for output_clip_seeyou.mp4\n",
      "Transcribe generator initiated for output_clip_thankyou.mp4.\n"
     ]
    },
    {
     "name": "stderr",
     "output_type": "stream",
     "text": [
      "INFO:faster_whisper:Processing audio with duration 00:54.010\n",
      "DEBUG:faster_whisper:Processing segment at 00:00.000\n"
     ]
    },
    {
     "name": "stdout",
     "output_type": "stream",
     "text": [
      "Transcribe completed for output_clip_thankyou.mp4.\n",
      "Transcribe dataframe created for output_clip_thankyou.mp4\n",
      "Transcribe generator initiated for output_clip_cho.mp4.\n"
     ]
    },
    {
     "name": "stderr",
     "output_type": "stream",
     "text": [
      "DEBUG:faster_whisper:Compression ratio threshold is not met with temperature 0.0 (10.948052 > 2.400000)\n",
      "DEBUG:faster_whisper:Processing segment at 00:22.000\n",
      "DEBUG:faster_whisper:Compression ratio threshold is not met with temperature 0.0 (2.770992 > 2.400000)\n",
      "DEBUG:faster_whisper:Processing segment at 00:52.000\n"
     ]
    },
    {
     "name": "stdout",
     "output_type": "stream",
     "text": [
      "Transcribe completed for output_clip_cho.mp4.\n",
      "Transcribe dataframe created for output_clip_cho.mp4\n"
     ]
    }
   ],
   "source": [
    "from result_enhancement import ResultEnhancement\n",
    "\n",
    "enhanced_dict = {}\n",
    "\n",
    "for video in whisper_transcription.video_list:\n",
    "    result_enhancement = ResultEnhancement(result_dict[video])\n",
    "    count_dict = result_enhancement.create_count_dict_consecutive_occurrences(threshold=4)\n",
    "    if count_dict:\n",
    "        print(video, count_dict)\n",
    "        enhance_video_list = result_enhancement.extract_mp4_each_consecutive_text(video, count_dict)\n",
    "        whisper_transcription_enhance = result_enhancement.init_whisper_transcription(enhance_video_list)\n",
    "        enhance_result_dict = result_enhancement.enhance_transcribe_to_df(whisper_transcription_enhance)\n",
    "        final_result_df = result_enhancement.create_final_result_dict(enhance_result_dict, count_dict, result_dict[video])\n",
    "        enhanced_dict[video] = final_result_df\n",
    "        subs = result_enhancement.create_enhanced_subs_dict(final_result_df)\n",
    "        # result_enhancement.delete_count_dict_mp4(enhance_video_list)\n",
    "        # result_enhancement.add_enhanced_subs_to_video(video, subs)"
   ]
  },
  {
   "cell_type": "code",
   "execution_count": 67,
   "metadata": {},
   "outputs": [],
   "source": [
    "from result_enhancement import ResultEnhancement\n",
    "\n",
    "for video in whisper_transcription.video_list:\n",
    "    result_enhancement = ResultEnhancement(enhanced_dict[video])\n",
    "    count_dict = result_enhancement.create_count_dict_consecutive_occurrences(threshold=5)\n",
    "    if count_dict:\n",
    "        print(video, count_dict)\n",
    "        # enhance_video_list = result_enhancement.extract_mp4_each_consecutive_text(video, count_dict)\n",
    "        # whisper_transcription_enhance = result_enhancement.init_whisper_transcription(enhance_video_list)\n",
    "        # enhance_result_dict = result_enhancement.enhance_transcribe_to_df(whisper_transcription_enhance)\n",
    "        # final_result_df = result_enhancement.create_final_result_dict(enhance_result_dict, count_dict, enhanced_dict[video])\n",
    "        # enhanced_dict[video] = final_result_df\n",
    "        # subs = result_enhancement.create_enhanced_subs_dict(final_result_df)\n",
    "        # result_enhancement.add_enhanced_subs_to_video(video, subs)"
   ]
  },
  {
   "cell_type": "code",
   "execution_count": 68,
   "metadata": {},
   "outputs": [],
   "source": [
    "enhanced_dict[video].to_csv(f'{mp4_name}.csv')"
   ]
  },
  {
   "cell_type": "code",
   "execution_count": 59,
   "metadata": {},
   "outputs": [
    {
     "name": "stdout",
     "output_type": "stream",
     "text": [
      "Moviepy - Building video tvchidori_0111/tvchidori_0111_output.mp4.\n",
      "MoviePy - Writing audio in temp-audio.m4a\n"
     ]
    },
    {
     "name": "stderr",
     "output_type": "stream",
     "text": [
      "                                                                        \r"
     ]
    },
    {
     "name": "stdout",
     "output_type": "stream",
     "text": [
      "MoviePy - Done.\n",
      "Moviepy - Writing video tvchidori_0111/tvchidori_0111_output.mp4\n",
      "\n"
     ]
    },
    {
     "name": "stderr",
     "output_type": "stream",
     "text": [
      "t: 100%|█████████▉| 41748/41750 [14:16<00:00, 55.03it/s, now=None] WARNING:py.warnings:/Users/chandes920/anaconda3/lib/python3.11/site-packages/moviepy/video/io/ffmpeg_reader.py:123: UserWarning: Warning: in file tvchidori_0111/tvchidori_0111.mp4, 2764800 bytes wanted but 0 bytes read,at frame 41748/41750, at time 1392.99/1393.05 sec. Using the last valid frame instead.\n",
      "  warnings.warn(\"Warning: in file %s, \"%(self.filename)+\n",
      "\n",
      "WARNING:py.warnings:/Users/chandes920/anaconda3/lib/python3.11/site-packages/moviepy/video/io/ffmpeg_reader.py:123: UserWarning: Warning: in file tvchidori_0111/tvchidori_0111.mp4, 2764800 bytes wanted but 0 bytes read,at frame 41749/41750, at time 1393.02/1393.05 sec. Using the last valid frame instead.\n",
      "  warnings.warn(\"Warning: in file %s, \"%(self.filename)+\n",
      "\n",
      "                                                                  "
     ]
    },
    {
     "name": "stdout",
     "output_type": "stream",
     "text": [
      "Moviepy - Done !\n",
      "Moviepy - video ready tvchidori_0111/tvchidori_0111_output.mp4\n"
     ]
    },
    {
     "name": "stderr",
     "output_type": "stream",
     "text": [
      "\r"
     ]
    }
   ],
   "source": [
    "for video in whisper_transcription.video_list:\n",
    "    result_enhancement.add_enhanced_subs_to_video(whisper_transcription_enhance, video, subs)"
   ]
  },
  {
   "cell_type": "code",
   "execution_count": 77,
   "metadata": {},
   "outputs": [],
   "source": [
    "final_result_df['duration'] = final_result_df['end']  - final_result_df['start']\n",
    "\n",
    "final_result_df_longer_than_10s = final_result_df[final_result_df['duration'] >= 10]"
   ]
  },
  {
   "cell_type": "code",
   "execution_count": 78,
   "metadata": {},
   "outputs": [
    {
     "data": {
      "text/html": [
       "<div>\n",
       "<style scoped>\n",
       "    .dataframe tbody tr th:only-of-type {\n",
       "        vertical-align: middle;\n",
       "    }\n",
       "\n",
       "    .dataframe tbody tr th {\n",
       "        vertical-align: top;\n",
       "    }\n",
       "\n",
       "    .dataframe thead th {\n",
       "        text-align: right;\n",
       "    }\n",
       "</style>\n",
       "<table border=\"1\" class=\"dataframe\">\n",
       "  <thead>\n",
       "    <tr style=\"text-align: right;\">\n",
       "      <th></th>\n",
       "      <th>start</th>\n",
       "      <th>end</th>\n",
       "      <th>text</th>\n",
       "      <th>duration</th>\n",
       "    </tr>\n",
       "  </thead>\n",
       "  <tbody>\n",
       "    <tr>\n",
       "      <th>727</th>\n",
       "      <td>1715.54</td>\n",
       "      <td>1725.54</td>\n",
       "      <td>It was 2 minutes and 42 seconds long.</td>\n",
       "      <td>10.0</td>\n",
       "    </tr>\n",
       "    <tr>\n",
       "      <th>759</th>\n",
       "      <td>1845.51</td>\n",
       "      <td>1855.81</td>\n",
       "      <td>I'm sorry I didn't give you an interesting ans...</td>\n",
       "      <td>10.3</td>\n",
       "    </tr>\n",
       "  </tbody>\n",
       "</table>\n",
       "</div>"
      ],
      "text/plain": [
       "       start      end                                               text  \\\n",
       "727  1715.54  1725.54              It was 2 minutes and 42 seconds long.   \n",
       "759  1845.51  1855.81  I'm sorry I didn't give you an interesting ans...   \n",
       "\n",
       "     duration  \n",
       "727      10.0  \n",
       "759      10.3  "
      ]
     },
     "execution_count": 78,
     "metadata": {},
     "output_type": "execute_result"
    }
   ],
   "source": [
    "final_result_df_longer_than_10s"
   ]
  },
  {
   "cell_type": "code",
   "execution_count": 75,
   "metadata": {},
   "outputs": [],
   "source": [
    "count_dict = {}\n",
    "\n",
    "for index, row in final_result_df_longer_than_10s.iterrows():\n",
    "    current_value = row['text']\n",
    "    count_dict.setdefault(current_value, {'count': 0, 'index_range': None})\n",
    "    count_dict[current_value]['count'] = 7\n",
    "    count_dict[current_value]['index_range'] = [index, index + 1]\n",
    "    count_dict[current_value]['cleaned_key'] = ''.join(char.lower() for char in current_value if char.isalnum())"
   ]
  },
  {
   "cell_type": "code",
   "execution_count": 128,
   "metadata": {},
   "outputs": [],
   "source": [
    "count_dict = {}\n",
    "\n",
    "for index, row in final_result_df_longer_than_10s.iterrows():\n",
    "    current_value = index\n",
    "    count_dict.setdefault(current_value, {'count': 0, 'index_range': None})\n",
    "    count_dict[current_value]['count'] = 7\n",
    "    count_dict[current_value]['index_range'] = [index, index + 1]\n",
    "    count_dict[current_value]['cleaned_key'] = index"
   ]
  },
  {
   "cell_type": "code",
   "execution_count": 76,
   "metadata": {},
   "outputs": [
    {
     "name": "stdout",
     "output_type": "stream",
     "text": [
      "datsuryoku_0105/datsuryoku_0105.mp4 {'It was 2 minutes and 42 seconds long.': {'count': 7, 'index_range': [727, 728], 'cleaned_key': 'itwas2minutesand42secondslong'}, 'There is no problem with the compliance, but is everyone laughing at the news of Oza-Wana?': {'count': 7, 'index_range': [737, 738], 'cleaned_key': 'thereisnoproblemwiththecompliancebutiseveryonelaughingatthenewsofozawana'}, \"I don't have a script, so I'm sorry I didn't give it back.\": {'count': 7, 'index_range': [759, 760], 'cleaned_key': 'idonthaveascriptsoimsorryididntgiveitback'}}\n",
      "Moviepy - Building video output_clip_itwas2minutesand42secondslong.mp4.\n",
      "MoviePy - Writing audio in output_clip_itwas2minutesand42secondslongTEMP_MPY_wvf_snd.mp4\n"
     ]
    },
    {
     "name": "stderr",
     "output_type": "stream",
     "text": [
      "                                                                    \r"
     ]
    },
    {
     "name": "stdout",
     "output_type": "stream",
     "text": [
      "MoviePy - Done.\n",
      "Moviepy - Writing video output_clip_itwas2minutesand42secondslong.mp4\n",
      "\n"
     ]
    },
    {
     "name": "stderr",
     "output_type": "stream",
     "text": [
      "                                                               \r"
     ]
    },
    {
     "name": "stdout",
     "output_type": "stream",
     "text": [
      "Moviepy - Done !\n",
      "Moviepy - video ready output_clip_itwas2minutesand42secondslong.mp4\n",
      "Moviepy - Building video output_clip_thereisnoproblemwiththecompliancebutiseveryonelaughingatthenewsofozawana.mp4.\n",
      "MoviePy - Writing audio in output_clip_thereisnoproblemwiththecompliancebutiseveryonelaughingatthenewsofozawanaTEMP_MPY_wvf_snd.mp4\n"
     ]
    },
    {
     "name": "stderr",
     "output_type": "stream",
     "text": [
      "                                                                   \r"
     ]
    },
    {
     "name": "stdout",
     "output_type": "stream",
     "text": [
      "MoviePy - Done.\n",
      "Moviepy - Writing video output_clip_thereisnoproblemwiththecompliancebutiseveryonelaughingatthenewsofozawana.mp4\n",
      "\n"
     ]
    },
    {
     "name": "stderr",
     "output_type": "stream",
     "text": [
      "                                                               \r"
     ]
    },
    {
     "name": "stdout",
     "output_type": "stream",
     "text": [
      "Moviepy - Done !\n",
      "Moviepy - video ready output_clip_thereisnoproblemwiththecompliancebutiseveryonelaughingatthenewsofozawana.mp4\n",
      "Moviepy - Building video output_clip_idonthaveascriptsoimsorryididntgiveitback.mp4.\n",
      "MoviePy - Writing audio in output_clip_idonthaveascriptsoimsorryididntgiveitbackTEMP_MPY_wvf_snd.mp4\n"
     ]
    },
    {
     "name": "stderr",
     "output_type": "stream",
     "text": [
      "                                                                    \r"
     ]
    },
    {
     "name": "stdout",
     "output_type": "stream",
     "text": [
      "MoviePy - Done.\n",
      "Moviepy - Writing video output_clip_idonthaveascriptsoimsorryididntgiveitback.mp4\n",
      "\n"
     ]
    },
    {
     "name": "stderr",
     "output_type": "stream",
     "text": [
      "                                                               \r"
     ]
    },
    {
     "name": "stdout",
     "output_type": "stream",
     "text": [
      "Moviepy - Done !\n",
      "Moviepy - video ready output_clip_idonthaveascriptsoimsorryididntgiveitback.mp4\n"
     ]
    },
    {
     "name": "stderr",
     "output_type": "stream",
     "text": [
      "INFO:faster_whisper:Processing audio with duration 00:19.017\n",
      "DEBUG:faster_whisper:Processing segment at 00:00.000\n"
     ]
    },
    {
     "name": "stdout",
     "output_type": "stream",
     "text": [
      "Transcribe generator initiated for output_clip_itwas2minutesand42secondslong.mp4.\n"
     ]
    },
    {
     "name": "stderr",
     "output_type": "stream",
     "text": [
      "INFO:faster_whisper:Processing audio with duration 00:18.019\n",
      "DEBUG:faster_whisper:Processing segment at 00:00.000\n"
     ]
    },
    {
     "name": "stdout",
     "output_type": "stream",
     "text": [
      "Transcribe completed for output_clip_itwas2minutesand42secondslong.mp4.\n",
      "Transcribe dataframe created for output_clip_itwas2minutesand42secondslong.mp4\n",
      "Transcribe generator initiated for output_clip_thereisnoproblemwiththecompliancebutiseveryonelaughingatthenewsofozawana.mp4.\n"
     ]
    },
    {
     "name": "stderr",
     "output_type": "stream",
     "text": [
      "INFO:faster_whisper:Processing audio with duration 00:17.322\n",
      "DEBUG:faster_whisper:Processing segment at 00:00.000\n"
     ]
    },
    {
     "name": "stdout",
     "output_type": "stream",
     "text": [
      "Transcribe completed for output_clip_thereisnoproblemwiththecompliancebutiseveryonelaughingatthenewsofozawana.mp4.\n",
      "Transcribe dataframe created for output_clip_thereisnoproblemwiththecompliancebutiseveryonelaughingatthenewsofozawana.mp4\n",
      "Transcribe generator initiated for output_clip_idonthaveascriptsoimsorryididntgiveitback.mp4.\n",
      "Transcribe completed for output_clip_idonthaveascriptsoimsorryididntgiveitback.mp4.\n",
      "Transcribe dataframe created for output_clip_idonthaveascriptsoimsorryididntgiveitback.mp4\n"
     ]
    }
   ],
   "source": [
    "from result_enhancement import ResultEnhancement\n",
    "\n",
    "for video in whisper_transcription.video_list:\n",
    "    result_enhancement = ResultEnhancement(enhanced_dict[video])\n",
    "    # count_dict = result_enhancement.create_count_dict_consecutive_occurrences(threshold=5)\n",
    "    if count_dict:\n",
    "        print(video, count_dict)\n",
    "        enhance_video_list = result_enhancement.extract_mp4_each_consecutive_text(video, count_dict)\n",
    "        whisper_transcription_enhance = result_enhancement.init_whisper_transcription(enhance_video_list)\n",
    "        enhance_result_dict = result_enhancement.enhance_transcribe_to_df(whisper_transcription_enhance)\n",
    "        final_result_df = result_enhancement.create_final_result_dict(enhance_result_dict, count_dict, enhanced_dict[video])\n",
    "        enhanced_dict[video] = final_result_df\n",
    "        subs = result_enhancement.create_enhanced_subs_dict(final_result_df)\n",
    "        # result_enhancement.add_enhanced_subs_to_video(whisper_transcription_enhance, video, subs)"
   ]
  },
  {
   "cell_type": "code",
   "execution_count": 149,
   "metadata": {},
   "outputs": [],
   "source": [
    "final_result_df.to_csv(f'{mp4_name}.csv')"
   ]
  },
  {
   "cell_type": "code",
   "execution_count": 79,
   "metadata": {},
   "outputs": [
    {
     "name": "stdout",
     "output_type": "stream",
     "text": [
      "Moviepy - Building video datsuryoku_0105/datsuryoku_0105_output.mp4.\n",
      "MoviePy - Writing audio in temp-audio.m4a\n"
     ]
    },
    {
     "name": "stderr",
     "output_type": "stream",
     "text": [
      "                                                                        \r"
     ]
    },
    {
     "name": "stdout",
     "output_type": "stream",
     "text": [
      "MoviePy - Done.\n",
      "Moviepy - Writing video datsuryoku_0105/datsuryoku_0105_output.mp4\n",
      "\n"
     ]
    },
    {
     "name": "stderr",
     "output_type": "stream",
     "text": [
      "t: 100%|█████████▉| 56406/56528 [19:56<00:01, 67.52it/s, now=None] WARNING:py.warnings:/Users/chandes920/anaconda3/lib/python3.11/site-packages/moviepy/video/io/ffmpeg_reader.py:123: UserWarning: Warning: in file datsuryoku_0105/datsuryoku_0105.mp4, 2764800 bytes wanted but 0 bytes read,at frame 56405/56407, at time 1882.05/1882.11 sec. Using the last valid frame instead.\n",
      "  warnings.warn(\"Warning: in file %s, \"%(self.filename)+\n",
      "\n",
      "WARNING:py.warnings:/Users/chandes920/anaconda3/lib/python3.11/site-packages/moviepy/video/io/ffmpeg_reader.py:123: UserWarning: Warning: in file datsuryoku_0105/datsuryoku_0105.mp4, 2764800 bytes wanted but 0 bytes read,at frame 56406/56407, at time 1882.08/1882.11 sec. Using the last valid frame instead.\n",
      "  warnings.warn(\"Warning: in file %s, \"%(self.filename)+\n",
      "\n",
      "                                                                  "
     ]
    },
    {
     "name": "stdout",
     "output_type": "stream",
     "text": [
      "Moviepy - Done !\n",
      "Moviepy - video ready datsuryoku_0105/datsuryoku_0105_output.mp4\n"
     ]
    },
    {
     "name": "stderr",
     "output_type": "stream",
     "text": [
      "\r"
     ]
    }
   ],
   "source": [
    "for video in whisper_transcription.video_list:    \n",
    "    result_enhancement.add_enhanced_subs_to_video(whisper_transcription_enhance, video, subs)"
   ]
  }
 ],
 "metadata": {
  "kernelspec": {
   "display_name": "base",
   "language": "python",
   "name": "python3"
  },
  "language_info": {
   "codemirror_mode": {
    "name": "ipython",
    "version": 3
   },
   "file_extension": ".py",
   "mimetype": "text/x-python",
   "name": "python",
   "nbconvert_exporter": "python",
   "pygments_lexer": "ipython3",
   "version": "3.11.5"
  }
 },
 "nbformat": 4,
 "nbformat_minor": 2
}
